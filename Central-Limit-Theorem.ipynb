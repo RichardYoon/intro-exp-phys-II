import numpy as np
import scipy
from scipy.stats import chi2
from scipy.stats import chisquare
from scipy.stats import norm

def do_random_convolution_with_chi2(list_of_distributions, N):
n_samples = 100000
q = np.zeros(n_samples)
var_q = 0
mean_q = 0
for dist_class in np.random.choice(list_of_distributions,N):
  dist = dist_class()
  q = q+dist.rvs(n_samples)
  var_q = var_q + dist.std()**2
  mean_q = mean_q + dist.mean()
  
  
  std_q = np.sqrt( var_q )
  
  counts, bins, patches = plt.hist(q,bins=50, normed=False, alpha=.2)
  bin2 = (bins[1:]+bins[:-1])/2
  
  normalization = q.size * (bins[1]-bins[0])
  prediction = normalization * norm.pdf(bin2, loc=mean_q, scale=std_q)
  
  plt.plot(bin2, prediction, lw = 2, c='r')
  chisq = np.sum(((counts-prediction)**2)/prediction)
  
  return chisq
  
# N = np.array([2,4,6,8,12,16])
maxc = 10
N = np.arange(2,maxc)
chis = np.zeros(N.size)
for i in range(N.size):
  chis[i] = do_random_convolution_with_chi2(my_dist,N[i])
  plt.figure()
  plt.plot(N, chis)
  plt.figure()
  for i in range(N.size):
  chis[i] = do_random_convolution_with_chi2(ok_distributions_list,N[i])
  plt.figure()
  plt.plot(N, chis)
